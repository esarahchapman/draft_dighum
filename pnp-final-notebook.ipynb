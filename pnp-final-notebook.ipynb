{
 "cells": [
  {
   "cell_type": "markdown",
   "id": "9f0a9e35",
   "metadata": {},
   "source": [
    "# Tonal Representation in Jane Austen's Pride and Prejudice"
   ]
  },
  {
   "cell_type": "markdown",
   "id": "69191364",
   "metadata": {},
   "source": [
    "## Research Question:\n",
    "To what extent are positive, neutral, or negative adjectives mentioned in *Pride and Prejudice*, and what does this signal about tone?"
   ]
  },
  {
   "cell_type": "markdown",
   "id": "b4dc5485",
   "metadata": {},
   "source": [
    "![title](https://www.gutenberg.org/cache/epub/1342/pg1342.cover.medium.jpg)"
   ]
  },
  {
   "cell_type": "markdown",
   "id": "f7d226d4",
   "metadata": {},
   "source": [
    "## Background\n",
    "*Pride and Prejudice* is Jane Austen’s second novel. It follows the character of Elizabeth Bennett, the second eldest daughter of the Bennett family. The Bennett family consists of Mr. and Mrs. Bennett and their five daughters; as their property can only pass to a male heir, the novel focuses on the family’s pressing need for at least one of their daughters to marry and marry well. \n",
    "\n",
    "In addition to the focus on Elizabeth Bennett, the novel centers on her love interest, Mr. Fitzwilliam Darcy, an intelligent, handsome, and very wealthy man. As a source of dramatic tension, the urgent need for a Bennett daughter to marry clashes with the fact that Darcy’s traits of pridefulness and arrogance dissuade Elizabeth, who is prejudiced against him from the start, from any thoughts of marriage. However, Darcy’s pride and bad manners provide Elizabeth the opportunity to “transform apparent hostility into lasting commitment and a happy-ever-after marriage.” This happy ending provides, upon first glance, an indication that the tone of the novel would sway toward the positive.\n",
    "\n",
    "This project intends to focus on the tone of *Pride and Prejudice*, or the expression of the author's attitude, and consider whether the expectation that the tone throughout the novel will sway towards the positive, reflecting the 'happy-ever-after,' is an accurate assumption. This project will explore this tonal representation through textual analysis by sorting the novel into its parts of speech and subsequently analyzing the adjectives peppered throughout the story. The clearly defined research question stated above will provide a roadmap for what the project must accomplish in order to provide an answer to this question.\n",
    "\n",
    "By analyzing the frequency of adjectives with positive, neutral, or negative connotations, a data-based visualization of the emotive direction in which the tone trends will emerge. This will provide insight into Austen’s use of language, as the descriptive nature of adjectives and their place as language modifiers means their impact on the story creates a particular tone. Essentially, by clearly sorting and visualizing these adjectives, the project will be able to focus on literal language usage, specifically adjectives, to analyze whether or not the ‘happy-ever-after marriage’ within *Pride and Prejudice* has tonal precedent."
   ]
  },
  {
   "cell_type": "markdown",
   "id": "85251633",
   "metadata": {},
   "source": [
    "## Process\n",
    "\n",
    "### Normalization\n",
    "1. Begin by importing any necessary requirements.\n",
    "2. Turn Project Gutenburg's Pride and Prejudice into a .utf-8 file.\n",
    "3. Import the file into the notebook.\n",
    "4. Remove the punctuation.\n",
    "5. Make the text lowercase.\n",
    "6. Tokenize the text.\n",
    "7. Remove stopwords from the text.\n",
    "8. Remove numbers (e.g., years) from the text.\n",
    "\n",
    "### Text Sortation: Part 1\n",
    "1. Part of speech (POS) tagging.\n",
    "2. Sort out the adjectives.\n",
    "3. Remove non-adjectives from the adjective-tagged list.\n",
    "4. Count word frequency.\n",
    "5. Sort out adjectives appearing at least 10 times.\n",
    "\n",
    "### Visualization: Part 1\n",
    "1. Barplot of the top adjectives.\n",
    "\n",
    "### Text Sortation: Part 2\n",
    "1. Sort adjectives into the categories of 'Positive,' 'Neutral,' or 'Negative.'\n",
    "\n",
    "### Visualization: Part 2\n",
    "1. Barplot of the top adjectives and their Correlations to 'Positive,' 'Neutral,' or 'Negative.'\n",
    "2. Barplot of the frequencies of the top adjectives and their Correlations to 'Positive,' 'Neutral,' or 'Negative.'\n",
    "\n",
    "### Analysis and Conclusion"
   ]
  },
  {
   "cell_type": "markdown",
   "id": "fa954c98",
   "metadata": {},
   "source": [
    "## Let's Start the Process!\n",
    "Let's begin by importing necessary requirements."
   ]
  },
  {
   "cell_type": "code",
   "execution_count": 1,
   "id": "ddb57300",
   "metadata": {},
   "outputs": [
    {
     "name": "stdout",
     "output_type": "stream",
     "text": [
      "Requirement already satisfied: pandas in c:\\users\\seali\\anaconda3\\lib\\site-packages (2.1.4)\n",
      "Requirement already satisfied: numpy<2,>=1.23.2 in c:\\users\\seali\\anaconda3\\lib\\site-packages (from pandas) (1.26.4)\n",
      "Requirement already satisfied: python-dateutil>=2.8.2 in c:\\users\\seali\\anaconda3\\lib\\site-packages (from pandas) (2.8.2)\n",
      "Requirement already satisfied: pytz>=2020.1 in c:\\users\\seali\\anaconda3\\lib\\site-packages (from pandas) (2023.3.post1)\n",
      "Requirement already satisfied: tzdata>=2022.1 in c:\\users\\seali\\anaconda3\\lib\\site-packages (from pandas) (2023.3)\n",
      "Requirement already satisfied: six>=1.5 in c:\\users\\seali\\anaconda3\\lib\\site-packages (from python-dateutil>=2.8.2->pandas) (1.16.0)\n",
      "Requirement already satisfied: matplotlib in c:\\users\\seali\\anaconda3\\lib\\site-packages (3.8.0)\n",
      "Requirement already satisfied: contourpy>=1.0.1 in c:\\users\\seali\\anaconda3\\lib\\site-packages (from matplotlib) (1.2.0)\n",
      "Requirement already satisfied: cycler>=0.10 in c:\\users\\seali\\anaconda3\\lib\\site-packages (from matplotlib) (0.11.0)\n",
      "Requirement already satisfied: fonttools>=4.22.0 in c:\\users\\seali\\anaconda3\\lib\\site-packages (from matplotlib) (4.25.0)\n",
      "Requirement already satisfied: kiwisolver>=1.0.1 in c:\\users\\seali\\anaconda3\\lib\\site-packages (from matplotlib) (1.4.4)\n",
      "Requirement already satisfied: numpy<2,>=1.21 in c:\\users\\seali\\anaconda3\\lib\\site-packages (from matplotlib) (1.26.4)\n",
      "Requirement already satisfied: packaging>=20.0 in c:\\users\\seali\\anaconda3\\lib\\site-packages (from matplotlib) (23.1)\n",
      "Requirement already satisfied: pillow>=6.2.0 in c:\\users\\seali\\anaconda3\\lib\\site-packages (from matplotlib) (10.2.0)\n",
      "Requirement already satisfied: pyparsing>=2.3.1 in c:\\users\\seali\\anaconda3\\lib\\site-packages (from matplotlib) (3.0.9)\n",
      "Requirement already satisfied: python-dateutil>=2.7 in c:\\users\\seali\\anaconda3\\lib\\site-packages (from matplotlib) (2.8.2)\n",
      "Requirement already satisfied: six>=1.5 in c:\\users\\seali\\anaconda3\\lib\\site-packages (from python-dateutil>=2.7->matplotlib) (1.16.0)\n",
      "Requirement already satisfied: spacy in c:\\users\\seali\\anaconda3\\lib\\site-packages (3.7.4)\n",
      "Requirement already satisfied: spacy-legacy<3.1.0,>=3.0.11 in c:\\users\\seali\\anaconda3\\lib\\site-packages (from spacy) (3.0.12)\n",
      "Requirement already satisfied: spacy-loggers<2.0.0,>=1.0.0 in c:\\users\\seali\\anaconda3\\lib\\site-packages (from spacy) (1.0.5)\n",
      "Requirement already satisfied: murmurhash<1.1.0,>=0.28.0 in c:\\users\\seali\\anaconda3\\lib\\site-packages (from spacy) (1.0.10)\n",
      "Requirement already satisfied: cymem<2.1.0,>=2.0.2 in c:\\users\\seali\\anaconda3\\lib\\site-packages (from spacy) (2.0.8)\n",
      "Requirement already satisfied: preshed<3.1.0,>=3.0.2 in c:\\users\\seali\\anaconda3\\lib\\site-packages (from spacy) (3.0.9)\n",
      "Requirement already satisfied: thinc<8.3.0,>=8.2.2 in c:\\users\\seali\\anaconda3\\lib\\site-packages (from spacy) (8.2.3)\n",
      "Requirement already satisfied: wasabi<1.2.0,>=0.9.1 in c:\\users\\seali\\anaconda3\\lib\\site-packages (from spacy) (1.1.2)\n",
      "Requirement already satisfied: srsly<3.0.0,>=2.4.3 in c:\\users\\seali\\anaconda3\\lib\\site-packages (from spacy) (2.4.8)\n",
      "Requirement already satisfied: catalogue<2.1.0,>=2.0.6 in c:\\users\\seali\\anaconda3\\lib\\site-packages (from spacy) (2.0.10)\n",
      "Requirement already satisfied: weasel<0.4.0,>=0.1.0 in c:\\users\\seali\\anaconda3\\lib\\site-packages (from spacy) (0.3.4)\n",
      "Requirement already satisfied: typer<0.10.0,>=0.3.0 in c:\\users\\seali\\anaconda3\\lib\\site-packages (from spacy) (0.9.4)\n",
      "Requirement already satisfied: smart-open<7.0.0,>=5.2.1 in c:\\users\\seali\\anaconda3\\lib\\site-packages (from spacy) (5.2.1)\n",
      "Requirement already satisfied: tqdm<5.0.0,>=4.38.0 in c:\\users\\seali\\anaconda3\\lib\\site-packages (from spacy) (4.65.0)\n",
      "Requirement already satisfied: requests<3.0.0,>=2.13.0 in c:\\users\\seali\\anaconda3\\lib\\site-packages (from spacy) (2.31.0)\n",
      "Requirement already satisfied: pydantic!=1.8,!=1.8.1,<3.0.0,>=1.7.4 in c:\\users\\seali\\anaconda3\\lib\\site-packages (from spacy) (1.10.12)\n",
      "Requirement already satisfied: jinja2 in c:\\users\\seali\\anaconda3\\lib\\site-packages (from spacy) (3.1.3)\n",
      "Requirement already satisfied: setuptools in c:\\users\\seali\\anaconda3\\lib\\site-packages (from spacy) (68.2.2)\n",
      "Requirement already satisfied: packaging>=20.0 in c:\\users\\seali\\anaconda3\\lib\\site-packages (from spacy) (23.1)\n",
      "Requirement already satisfied: langcodes<4.0.0,>=3.2.0 in c:\\users\\seali\\anaconda3\\lib\\site-packages (from spacy) (3.4.0)\n",
      "Requirement already satisfied: numpy>=1.19.0 in c:\\users\\seali\\anaconda3\\lib\\site-packages (from spacy) (1.26.4)\n",
      "Requirement already satisfied: language-data>=1.2 in c:\\users\\seali\\anaconda3\\lib\\site-packages (from langcodes<4.0.0,>=3.2.0->spacy) (1.2.0)\n",
      "Requirement already satisfied: typing-extensions>=4.2.0 in c:\\users\\seali\\anaconda3\\lib\\site-packages (from pydantic!=1.8,!=1.8.1,<3.0.0,>=1.7.4->spacy) (4.9.0)\n",
      "Requirement already satisfied: charset-normalizer<4,>=2 in c:\\users\\seali\\anaconda3\\lib\\site-packages (from requests<3.0.0,>=2.13.0->spacy) (2.0.4)\n",
      "Requirement already satisfied: idna<4,>=2.5 in c:\\users\\seali\\anaconda3\\lib\\site-packages (from requests<3.0.0,>=2.13.0->spacy) (3.4)\n",
      "Requirement already satisfied: urllib3<3,>=1.21.1 in c:\\users\\seali\\anaconda3\\lib\\site-packages (from requests<3.0.0,>=2.13.0->spacy) (2.0.7)\n",
      "Requirement already satisfied: certifi>=2017.4.17 in c:\\users\\seali\\anaconda3\\lib\\site-packages (from requests<3.0.0,>=2.13.0->spacy) (2024.6.2)\n",
      "Requirement already satisfied: blis<0.8.0,>=0.7.8 in c:\\users\\seali\\anaconda3\\lib\\site-packages (from thinc<8.3.0,>=8.2.2->spacy) (0.7.11)\n",
      "Requirement already satisfied: confection<1.0.0,>=0.0.1 in c:\\users\\seali\\anaconda3\\lib\\site-packages (from thinc<8.3.0,>=8.2.2->spacy) (0.1.4)\n",
      "Requirement already satisfied: colorama in c:\\users\\seali\\anaconda3\\lib\\site-packages (from tqdm<5.0.0,>=4.38.0->spacy) (0.4.6)\n",
      "Requirement already satisfied: click<9.0.0,>=7.1.1 in c:\\users\\seali\\anaconda3\\lib\\site-packages (from typer<0.10.0,>=0.3.0->spacy) (8.1.7)\n",
      "Requirement already satisfied: cloudpathlib<0.17.0,>=0.7.0 in c:\\users\\seali\\anaconda3\\lib\\site-packages (from weasel<0.4.0,>=0.1.0->spacy) (0.16.0)\n",
      "Requirement already satisfied: MarkupSafe>=2.0 in c:\\users\\seali\\anaconda3\\lib\\site-packages (from jinja2->spacy) (2.1.3)\n",
      "Requirement already satisfied: marisa-trie>=0.7.7 in c:\\users\\seali\\anaconda3\\lib\\site-packages (from language-data>=1.2->langcodes<4.0.0,>=3.2.0->spacy) (1.1.1)\n"
     ]
    }
   ],
   "source": [
    "!pip install pandas\n",
    "import pandas as pd \n",
    "\n",
    "!pip install matplotlib\n",
    "import matplotlib as mpl\n",
    "import matplotlib.pyplot as plt\n",
    "import seaborn as sns\n",
    "\n",
    "!pip install spacy\n",
    "\n",
    "import os\n",
    "import re\n",
    "import spacy\n",
    "import string\n",
    "import math\n",
    "import random\n",
    "import numpy as np\n",
    "from collections import Counter"
   ]
  },
  {
   "cell_type": "markdown",
   "id": "4ec9b280",
   "metadata": {},
   "source": [
    "## Converting and Uploading Pride and Predjudice from Project Gutenburg\n",
    "I used the application Sublime Text to convert Project Gutenberg's *Pride and Prejudice* text into utf-8-sig format and deleted the Project Gutenberg introduction and legal statements prior to importing.\n",
    "\n",
    "To run this yourself, download the text from [here](https://www.gutenberg.org/ebooks/1342) and run the same process, changing the code below with the location of your downloaded and altered text file. You can also download the text file from the repository: whichever you prefer!"
   ]
  },
  {
   "cell_type": "code",
   "execution_count": 2,
   "id": "cedcddfa",
   "metadata": {},
   "outputs": [],
   "source": [
    "text = open('/Users/seali/Downloads/pnp-text.txt', encoding = 'utf-8-sig').read()\n",
    "\n",
    "# Print to check the step worked!\n",
    "# print(text)"
   ]
  },
  {
   "cell_type": "markdown",
   "id": "a221022a",
   "metadata": {},
   "source": [
    "## Removal of the Punctuation\n",
    "Next, import the punctuation, and print to check that it contains all characters I want to exclude. Then, run code to remove the punctuation."
   ]
  },
  {
   "cell_type": "code",
   "execution_count": 3,
   "id": "9d95029a",
   "metadata": {},
   "outputs": [
    {
     "name": "stdout",
     "output_type": "stream",
     "text": [
      "!\"#$%&'()*+,-./:;<=>?@[\\]^_`{|}~\n"
     ]
    }
   ],
   "source": [
    "from string import punctuation \n",
    "print(punctuation)"
   ]
  },
  {
   "cell_type": "code",
   "execution_count": 4,
   "id": "8cc6bdab",
   "metadata": {},
   "outputs": [],
   "source": [
    "for char in punctuation:\n",
    "    text = text.replace(char, \"\")\n",
    "    \n",
    "# Print to check the step worked!\n",
    "# print(text)"
   ]
  },
  {
   "cell_type": "markdown",
   "id": "0b5b6984",
   "metadata": {},
   "source": [
    "## Making all of the Text Lowercase\n",
    "Next, run code to turn our working text into lowercase."
   ]
  },
  {
   "cell_type": "code",
   "execution_count": 5,
   "id": "f2dffdf3",
   "metadata": {},
   "outputs": [],
   "source": [
    "text_lower = text.lower()\n",
    "\n",
    "# Print to check the step worked!\n",
    "# print(text_lower)"
   ]
  },
  {
   "cell_type": "markdown",
   "id": "198f6c04",
   "metadata": {},
   "source": [
    "## Tokenization of the Text\n",
    "Next, import all needed code for this process. Run code to tokenizer the text!"
   ]
  },
  {
   "cell_type": "code",
   "execution_count": 6,
   "id": "d11398a9",
   "metadata": {},
   "outputs": [
    {
     "name": "stdout",
     "output_type": "stream",
     "text": [
      "Requirement already satisfied: nltk in c:\\users\\seali\\anaconda3\\lib\\site-packages (3.8.1)\n",
      "Requirement already satisfied: click in c:\\users\\seali\\anaconda3\\lib\\site-packages (from nltk) (8.1.7)\n",
      "Requirement already satisfied: joblib in c:\\users\\seali\\anaconda3\\lib\\site-packages (from nltk) (1.2.0)\n",
      "Requirement already satisfied: regex>=2021.8.3 in c:\\users\\seali\\anaconda3\\lib\\site-packages (from nltk) (2023.10.3)\n",
      "Requirement already satisfied: tqdm in c:\\users\\seali\\anaconda3\\lib\\site-packages (from nltk) (4.65.0)\n",
      "Requirement already satisfied: colorama in c:\\users\\seali\\anaconda3\\lib\\site-packages (from click->nltk) (0.4.6)\n"
     ]
    },
    {
     "name": "stderr",
     "output_type": "stream",
     "text": [
      "[nltk_data] Downloading package punkt to\n",
      "[nltk_data]     C:\\Users\\seali\\AppData\\Roaming\\nltk_data...\n",
      "[nltk_data]   Package punkt is already up-to-date!\n"
     ]
    },
    {
     "data": {
      "text/plain": [
       "True"
      ]
     },
     "execution_count": 6,
     "metadata": {},
     "output_type": "execute_result"
    }
   ],
   "source": [
    "!pip install nltk\n",
    "import nltk\n",
    "from nltk.tokenize import word_tokenize\n",
    "from nltk.tokenize import sent_tokenize #can potentially delete\n",
    "nltk.download('punkt')"
   ]
  },
  {
   "cell_type": "code",
   "execution_count": 7,
   "id": "8b06b032",
   "metadata": {},
   "outputs": [],
   "source": [
    "tokens = word_tokenize(text_lower)\n",
    "\n",
    "# Print to check the step worked!\n",
    "# print(tokens)"
   ]
  },
  {
   "cell_type": "markdown",
   "id": "1b38a3d3",
   "metadata": {},
   "source": [
    "#### Just for fun, how many words are we working with?"
   ]
  },
  {
   "cell_type": "code",
   "execution_count": 8,
   "id": "a12f885a",
   "metadata": {},
   "outputs": [
    {
     "name": "stdout",
     "output_type": "stream",
     "text": [
      "121931\n"
     ]
    }
   ],
   "source": [
    "print(len(tokens))"
   ]
  },
  {
   "cell_type": "markdown",
   "id": "45286e89",
   "metadata": {},
   "source": [
    "#### Wow!"
   ]
  },
  {
   "cell_type": "markdown",
   "id": "b64fcf5e",
   "metadata": {},
   "source": [
    "## Removal of Stopwords\n",
    "Next, import all the code needed for this process. Then, run the code to remove all stop words from the text!"
   ]
  },
  {
   "cell_type": "code",
   "execution_count": 9,
   "id": "e185df14",
   "metadata": {},
   "outputs": [
    {
     "name": "stderr",
     "output_type": "stream",
     "text": [
      "[nltk_data] Downloading package stopwords to\n",
      "[nltk_data]     C:\\Users\\seali\\AppData\\Roaming\\nltk_data...\n",
      "[nltk_data]   Package stopwords is already up-to-date!\n"
     ]
    }
   ],
   "source": [
    "from nltk.corpus import stopwords\n",
    "nltk.download('stopwords')\n",
    "stop = stopwords.words('english')"
   ]
  },
  {
   "cell_type": "code",
   "execution_count": 10,
   "id": "24672632",
   "metadata": {},
   "outputs": [
    {
     "name": "stdout",
     "output_type": "stream",
     "text": [
      "['i', 'me', 'my', 'myself', 'we', 'our', 'ours', 'ourselves', 'you', \"you're\", \"you've\", \"you'll\", \"you'd\", 'your', 'yours', 'yourself', 'yourselves', 'he', 'him', 'his', 'himself', 'she', \"she's\", 'her', 'hers', 'herself', 'it', \"it's\", 'its', 'itself', 'they', 'them', 'their', 'theirs', 'themselves', 'what', 'which', 'who', 'whom', 'this', 'that', \"that'll\", 'these', 'those', 'am', 'is', 'are', 'was', 'were', 'be', 'been', 'being', 'have', 'has', 'had', 'having', 'do', 'does', 'did', 'doing', 'a', 'an', 'the', 'and', 'but', 'if', 'or', 'because', 'as', 'until', 'while', 'of', 'at', 'by', 'for', 'with', 'about', 'against', 'between', 'into', 'through', 'during', 'before', 'after', 'above', 'below', 'to', 'from', 'up', 'down', 'in', 'out', 'on', 'off', 'over', 'under', 'again', 'further', 'then', 'once', 'here', 'there', 'when', 'where', 'why', 'how', 'all', 'any', 'both', 'each', 'few', 'more', 'most', 'other', 'some', 'such', 'no', 'nor', 'not', 'only', 'own', 'same', 'so', 'than', 'too', 'very', 's', 't', 'can', 'will', 'just', 'don', \"don't\", 'should', \"should've\", 'now', 'd', 'll', 'm', 'o', 're', 've', 'y', 'ain', 'aren', \"aren't\", 'couldn', \"couldn't\", 'didn', \"didn't\", 'doesn', \"doesn't\", 'hadn', \"hadn't\", 'hasn', \"hasn't\", 'haven', \"haven't\", 'isn', \"isn't\", 'ma', 'mightn', \"mightn't\", 'mustn', \"mustn't\", 'needn', \"needn't\", 'shan', \"shan't\", 'shouldn', \"shouldn't\", 'wasn', \"wasn't\", 'weren', \"weren't\", 'won', \"won't\", 'wouldn', \"wouldn't\"]\n"
     ]
    }
   ],
   "source": [
    "# Check the list of stopwords to ensure it includes everything we want to exclude from the text.\n",
    "print(stop)"
   ]
  },
  {
   "cell_type": "code",
   "execution_count": 11,
   "id": "c899f95e",
   "metadata": {
    "scrolled": true
   },
   "outputs": [],
   "source": [
    "text_nostop = [word for word in tokens if word not in stopwords.words('english')]\n",
    "\n",
    "# Print to check the step worked!\n",
    "# print(text_nostop)"
   ]
  },
  {
   "cell_type": "markdown",
   "id": "0b522f19",
   "metadata": {},
   "source": [
    "#### How many words are we working with now?"
   ]
  },
  {
   "cell_type": "code",
   "execution_count": 12,
   "id": "2d2df20a",
   "metadata": {},
   "outputs": [
    {
     "name": "stdout",
     "output_type": "stream",
     "text": [
      "55170\n"
     ]
    }
   ],
   "source": [
    "print(len(text_nostop))"
   ]
  },
  {
   "cell_type": "markdown",
   "id": "d59ccd55",
   "metadata": {},
   "source": [
    "## Removal of  Numbers from the Text\n",
    "Run code to remove all numbers (e.g., years) from the text, as they are unnecessary and irrelevant to the analysis!"
   ]
  },
  {
   "cell_type": "code",
   "execution_count": 13,
   "id": "fd4c1c50",
   "metadata": {
    "scrolled": false
   },
   "outputs": [],
   "source": [
    "text_nostop_nonum = [item for item in text_nostop if not item.isdigit()]\n",
    "\n",
    "# Print to check the step worked!\n",
    "# print(text_nostop_nonum)"
   ]
  },
  {
   "cell_type": "markdown",
   "id": "547dfb87",
   "metadata": {},
   "source": [
    "## Part of Speech Text Processing\n",
    "Remember to use the fully processed text—tokenized, without stopwords or numbers."
   ]
  },
  {
   "cell_type": "code",
   "execution_count": 14,
   "id": "1e52e6fd",
   "metadata": {},
   "outputs": [],
   "source": [
    "from nltk import pos_tag"
   ]
  },
  {
   "cell_type": "code",
   "execution_count": 15,
   "id": "87259f0e",
   "metadata": {},
   "outputs": [],
   "source": [
    "pos_tag_tokens = pos_tag(text_nostop_nonum)\n",
    "\n",
    "# Run to check the step worked!\n",
    "# pos_tag_tokens"
   ]
  },
  {
   "cell_type": "markdown",
   "id": "7f9cf1f3",
   "metadata": {},
   "source": [
    "**Scrolling though the text, the adjectives seem just as useful and interesting as anticipated! Now, let's move onto sorting out the adjectives from the text and making visualizations for them.**"
   ]
  },
  {
   "cell_type": "code",
   "execution_count": 16,
   "id": "5d5cd9fa",
   "metadata": {},
   "outputs": [],
   "source": [
    "adjectives = []\n",
    "for item in pos_tag_tokens:\n",
    "    if item[1] == 'JJ':\n",
    "        adjectives.append(item[0])\n",
    "        \n",
    "# Print to check the step worked!\n",
    "# print(adjectives)"
   ]
  },
  {
   "cell_type": "markdown",
   "id": "c5ae992c",
   "metadata": {},
   "source": [
    "**Now, manually remove any remaing words that are *not* adjectives. To keep a standard, I used the Merriam Webster definition of each word; if the word could, in any instance, be used as an adjective, it remained in the processed text.**"
   ]
  },
  {
   "cell_type": "code",
   "execution_count": 17,
   "id": "f92c7c39",
   "metadata": {},
   "outputs": [],
   "source": [
    "item_to_remove = {'head','write','listen','publish','consent','listen','expected','answered','dare','fullpursuing','maiden','fault','sunday','respectable','fearnot','parish','favour','followed','warwick','obtained','mr','miss','mrs','elizabeth','lady','wish','darcy','give','lizzy','netherfield','mary','know','sir','oh','pleased','lydia','hear','speak','london','cried','sister','table','wickam','kitty','uncle','lydias','till','bingley','replied','library','elizabeths','longbourn','spite','happiness','arrival','catherine','astonishment','fortune','jane','behaviour','come','suppose','honour','engagement','saturday','darcys','smile','receive','ten','want','fortnight','regret','neighbourhood','sight','gentleman','thought','leave','appear','length','understood','saw','understand','understanding','sat','walked','make','pemberley','meant','see','motive','degree','avoid','pray','servant','follow','collinss','ladyship','bear','fitzwilliam','neglect','accept','fear','hurst','chose','knew','told','delight','tuesday','dine','denny','conceal','monday','door','amongst','girl','convinced','notice','william','purpose','attempt','ask','aloud','enjoyment','stairs','endeavour','invite','sixteen','wickhams','learnt','bring','marry','father','stay','forgive','regiment','wished','egerton','military','la','disposed','advantage','nature','believe','charlotte','laugh','friend','compliment','ladys','nay','uncles','thanked','rid','aunt','felt','console','imagine','interrupt','nephew','entered','affair','affected','call','caroline','kent','c','window','colonel','wanted','wickham'}"
   ]
  },
  {
   "cell_type": "code",
   "execution_count": 18,
   "id": "053c3a48",
   "metadata": {},
   "outputs": [],
   "source": [
    "non_adject_removed = [item for item in adjectives if item not in item_to_remove]\n",
    "\n",
    "# Print to check the step worked!\n",
    "# print(non_adject_removed)"
   ]
  },
  {
   "cell_type": "markdown",
   "id": "fc3ae143",
   "metadata": {},
   "source": [
    "## Counting Word Frequencies\n",
    "Use Python's built in 'Counter' function to count the frequencies of individual words in the text. Don't use 'print()' as it's easier to view by just running the code. The words will be listed in the descending order of most common to least common."
   ]
  },
  {
   "cell_type": "code",
   "execution_count": 19,
   "id": "d88170b3",
   "metadata": {},
   "outputs": [],
   "source": [
    "from collections import Counter\n",
    "processed_adject_freq = Counter(non_adject_removed)\n",
    "\n",
    "# Run to check the step worked!\n",
    "# processed_adject_freq"
   ]
  },
  {
   "cell_type": "markdown",
   "id": "833d6ba0",
   "metadata": {},
   "source": [
    "**Now, sort out the adjectives that appear within *Pride and Predjudice* at *least* ten times. This frequency is large anough that these adjectives can be assumed to be reflective of the tone of the novel. I ran different code variations, noted below, and settled on the 129th most common adjectives.**"
   ]
  },
  {
   "cell_type": "code",
   "execution_count": 20,
   "id": "01d10998",
   "metadata": {},
   "outputs": [
    {
     "data": {
      "text/plain": [
       "[('much', 218),\n",
       " ('good', 187),\n",
       " ('little', 173),\n",
       " ('great', 142),\n",
       " ('young', 128),\n",
       " ('last', 119),\n",
       " ('many', 118),\n",
       " ('dear', 106),\n",
       " ('first', 87),\n",
       " ('happy', 78),\n",
       " ('sure', 74),\n",
       " ('whole', 74),\n",
       " ('subject', 66),\n",
       " ('present', 62),\n",
       " ('next', 57),\n",
       " ('possible', 56),\n",
       " ('able', 54),\n",
       " ('certain', 53),\n",
       " ('general', 48),\n",
       " ('enough', 43),\n",
       " ('impossible', 41),\n",
       " ('short', 41),\n",
       " ('long', 40),\n",
       " ('agreeable', 40),\n",
       " ('poor', 37),\n",
       " ('former', 37),\n",
       " ('different', 35),\n",
       " ('amiable', 34),\n",
       " ('usual', 34),\n",
       " ('necessary', 31),\n",
       " ('real', 31),\n",
       " ('sensible', 30),\n",
       " ('equal', 30),\n",
       " ('right', 29),\n",
       " ('afraid', 28),\n",
       " ('object', 28),\n",
       " ('particular', 27),\n",
       " ('fine', 26),\n",
       " ('likely', 26),\n",
       " ('handsome', 26),\n",
       " ('true', 26),\n",
       " ('new', 25),\n",
       " ('anxious', 25),\n",
       " ('serious', 24),\n",
       " ('large', 23),\n",
       " ('second', 23),\n",
       " ('ill', 23),\n",
       " ('several', 23),\n",
       " ('small', 23),\n",
       " ('natural', 22),\n",
       " ('early', 22),\n",
       " ('easy', 20),\n",
       " ('glad', 20),\n",
       " ('fair', 20),\n",
       " ('common', 19),\n",
       " ('surprised', 19),\n",
       " ('ready', 19),\n",
       " ('strong', 19),\n",
       " ('proper', 19),\n",
       " ('high', 18),\n",
       " ('sorry', 18),\n",
       " ('married', 18),\n",
       " ('civil', 18),\n",
       " ('full', 18),\n",
       " ('half', 17),\n",
       " ('excellent', 17),\n",
       " ('superior', 17),\n",
       " ('slight', 17),\n",
       " ('silent', 17),\n",
       " ('capable', 17),\n",
       " ('extraordinary', 16),\n",
       " ('angry', 15),\n",
       " ('tolerable', 15),\n",
       " ('evident', 15),\n",
       " ('open', 15),\n",
       " ('late', 15),\n",
       " ('unable', 14),\n",
       " ('bad', 14),\n",
       " ('read', 14),\n",
       " ('delightful', 14),\n",
       " ('painful', 14),\n",
       " ('reasonable', 14),\n",
       " ('old', 13),\n",
       " ('pleasant', 13),\n",
       " ('disagreeable', 13),\n",
       " ('beautiful', 13),\n",
       " ('elegant', 13),\n",
       " ('perfect', 13),\n",
       " ('wrong', 13),\n",
       " ('chief', 13),\n",
       " ('satisfied', 13),\n",
       " ('mean', 13),\n",
       " ('grateful', 13),\n",
       " ('ignorant', 13),\n",
       " ('unhappy', 13),\n",
       " ('single', 12),\n",
       " ('favourable', 12),\n",
       " ('steady', 12),\n",
       " ('live', 11),\n",
       " ('difficult', 11),\n",
       " ('noble', 11),\n",
       " ('principal', 11),\n",
       " ('private', 11),\n",
       " ('rich', 11),\n",
       " ('due', 11),\n",
       " ('public', 11),\n",
       " ('desirable', 11),\n",
       " ('continued', 11),\n",
       " ('cold', 11),\n",
       " ('wild', 11),\n",
       " ('fancy', 11),\n",
       " ('opposite', 11),\n",
       " ('indifferent', 11),\n",
       " ('favourite', 11),\n",
       " ('immediate', 11),\n",
       " ('comfortable', 11),\n",
       " ('proud', 10),\n",
       " ('unwilling', 10),\n",
       " ('attentive', 10),\n",
       " ('partial', 10),\n",
       " ('light', 10),\n",
       " ('latter', 10),\n",
       " ('important', 10),\n",
       " ('future', 10),\n",
       " ('generous', 10),\n",
       " ('eager', 10),\n",
       " ('disappointed', 10),\n",
       " ('related', 10),\n",
       " ('probable', 10)]"
      ]
     },
     "execution_count": 20,
     "metadata": {},
     "output_type": "execute_result"
    }
   ],
   "source": [
    "# The code below will not show all adjectives that appear ten times.\n",
    "    # non_adject_removed_freq.most_common(128)\n",
    "\n",
    "# The code below will begin to show adjectives that appear nine times.\n",
    "    # non_adject_removed_freq.most_common(130)\n",
    "\n",
    "# So, use the 129th most common adjectives to analyze the adjectives that appear at least ten times.\n",
    "processed_adject_freq.most_common(129)"
   ]
  },
  {
   "cell_type": "code",
   "execution_count": 21,
   "id": "490bcf40",
   "metadata": {},
   "outputs": [],
   "source": [
    "top_129_adject = processed_adject_freq.most_common(129)"
   ]
  },
  {
   "cell_type": "markdown",
   "id": "0ed1f8bf",
   "metadata": {},
   "source": [
    "## Move on to Visualizations!"
   ]
  },
  {
   "cell_type": "markdown",
   "id": "f979266d",
   "metadata": {},
   "source": [
    "## Graph 1: Bar Plot of the Top 129 Adjectives\n",
    "This step is not particularity useful for tonal analysis, however, it will be an interesting way to visualize the frequencies of the top 129 adjectives as they appear in the text. \n",
    "\n",
    "**I've chosen a light blue color for the graphs that do not prove to be the most useful for the goal of tonal analysis.**"
   ]
  },
  {
   "cell_type": "code",
   "execution_count": 22,
   "id": "c3c36053",
   "metadata": {},
   "outputs": [],
   "source": [
    "mpl.rc('savefig', dpi=200)\n",
    "plt.style.use('classic')\n",
    "plt.rcParams['xtick.minor.size'] = 0\n",
    "plt.rcParams['ytick.minor.size'] = 0"
   ]
  },
  {
   "cell_type": "code",
   "execution_count": 23,
   "id": "03dad352",
   "metadata": {},
   "outputs": [],
   "source": [
    "%matplotlib inline"
   ]
  },
  {
   "cell_type": "code",
   "execution_count": 24,
   "id": "826aedc7",
   "metadata": {},
   "outputs": [
    {
     "data": {
      "text/html": [
       "<div>\n",
       "<style scoped>\n",
       "    .dataframe tbody tr th:only-of-type {\n",
       "        vertical-align: middle;\n",
       "    }\n",
       "\n",
       "    .dataframe tbody tr th {\n",
       "        vertical-align: top;\n",
       "    }\n",
       "\n",
       "    .dataframe thead th {\n",
       "        text-align: right;\n",
       "    }\n",
       "</style>\n",
       "<table border=\"1\" class=\"dataframe\">\n",
       "  <thead>\n",
       "    <tr style=\"text-align: right;\">\n",
       "      <th></th>\n",
       "      <th>Adjectives</th>\n",
       "      <th>Frequency</th>\n",
       "    </tr>\n",
       "  </thead>\n",
       "  <tbody>\n",
       "    <tr>\n",
       "      <th>0</th>\n",
       "      <td>much</td>\n",
       "      <td>218</td>\n",
       "    </tr>\n",
       "    <tr>\n",
       "      <th>1</th>\n",
       "      <td>good</td>\n",
       "      <td>187</td>\n",
       "    </tr>\n",
       "    <tr>\n",
       "      <th>2</th>\n",
       "      <td>little</td>\n",
       "      <td>173</td>\n",
       "    </tr>\n",
       "    <tr>\n",
       "      <th>3</th>\n",
       "      <td>great</td>\n",
       "      <td>142</td>\n",
       "    </tr>\n",
       "    <tr>\n",
       "      <th>4</th>\n",
       "      <td>young</td>\n",
       "      <td>128</td>\n",
       "    </tr>\n",
       "    <tr>\n",
       "      <th>...</th>\n",
       "      <td>...</td>\n",
       "      <td>...</td>\n",
       "    </tr>\n",
       "    <tr>\n",
       "      <th>124</th>\n",
       "      <td>generous</td>\n",
       "      <td>10</td>\n",
       "    </tr>\n",
       "    <tr>\n",
       "      <th>125</th>\n",
       "      <td>eager</td>\n",
       "      <td>10</td>\n",
       "    </tr>\n",
       "    <tr>\n",
       "      <th>126</th>\n",
       "      <td>disappointed</td>\n",
       "      <td>10</td>\n",
       "    </tr>\n",
       "    <tr>\n",
       "      <th>127</th>\n",
       "      <td>related</td>\n",
       "      <td>10</td>\n",
       "    </tr>\n",
       "    <tr>\n",
       "      <th>128</th>\n",
       "      <td>probable</td>\n",
       "      <td>10</td>\n",
       "    </tr>\n",
       "  </tbody>\n",
       "</table>\n",
       "<p>129 rows × 2 columns</p>\n",
       "</div>"
      ],
      "text/plain": [
       "       Adjectives  Frequency\n",
       "0            much        218\n",
       "1            good        187\n",
       "2          little        173\n",
       "3           great        142\n",
       "4           young        128\n",
       "..            ...        ...\n",
       "124      generous         10\n",
       "125         eager         10\n",
       "126  disappointed         10\n",
       "127       related         10\n",
       "128      probable         10\n",
       "\n",
       "[129 rows x 2 columns]"
      ]
     },
     "execution_count": 24,
     "metadata": {},
     "output_type": "execute_result"
    }
   ],
   "source": [
    "top_129_adject_DF = pd.DataFrame(processed_adject_freq.most_common(129), columns = ['Adjectives' , 'Frequency'])\n",
    "top_129_adject_DF"
   ]
  },
  {
   "cell_type": "code",
   "execution_count": 25,
   "id": "62d07866",
   "metadata": {},
   "outputs": [
    {
     "data": {
      "image/png": "[encoded data removed]",
      "text/plain": [
       "<Figure size 1600x480 with 1 Axes>"
      ]
     },
     "metadata": {},
     "output_type": "display_data"
    }
   ],
   "source": [
    "barplot = top_129_adject_DF.plot.bar(x='Adjectives', y='Frequency', \n",
    "                                     rot=90, \n",
    "                                     title = 'Barplot of Top 129 Adjective Frequencies in Pride and Predjudice', \n",
    "                                     figsize = (20,6), \n",
    "                                     color = '#ADD8E6');\n",
    "plt.xlabel('Adjectives');\n",
    "plt.ylabel('Frequency');"
   ]
  },
  {
   "cell_type": "markdown",
   "id": "955264bb",
   "metadata": {},
   "source": [
    "**Just as I suspected! This graph is not particularly helpful for tonal analysis (which is, of course, the main focus of this project!), but it is a fun way to visualize the frequency of each adjective!**\n",
    "\n",
    "**Now, let's move on to the more helpful graphs.**"
   ]
  },
  {
   "cell_type": "markdown",
   "id": "27b19c9a",
   "metadata": {},
   "source": [
    "## Denote the Most Common Adjectives as 'Positive,' 'Neutral,' or 'Negative'\n",
    "To begin the process of creating more helpful visualizations, classify the chosen adjectives as having a positive, neutral, or negative connotation. Doing this manually (for the top 129 adjectives) was the most effective way, as I was able to account for the language conventions of Austen's time. To maintain standardization, I used the Merriam-Webster definition of each word; if the adjective is generally used to modify nouns positively, it was labeled as positive just as adjectives that are typically used to modify nouns negatively were labeled as negative.\n",
    "\n",
    "If a word could be used as a negative *or* positive modifying word, it got the label neutral. If the word related to sizes, ages, number orders, or was generally not placeable in the positive or negative category, it also got the label neutral."
   ]
  },
  {
   "cell_type": "code",
   "execution_count": 26,
   "id": "300164b7",
   "metadata": {},
   "outputs": [],
   "source": [
    "# This dictionary only denotes the connotations of the top 129 adjectives.\n",
    "dictionary = {'much':'neutral','good':'positive','little':'neutral','great':'positive','young':'neutral','last':'neutral','many':'neutral','dear':'positive','first':'neutral','happy':'positive','sure':'positive','whole':'neutral','subject':'neutral','present':'neutral','next':'neutral','possible':'positive','able':'positive','certain':'positive','general':'neutral','enough':'positive','impossible':'negative','young':'neutral','short':'neutral','long':'neutral','young':'neutral','agreeable':'positive','poor':'negative','former':'neutral','different':'neutral','amiable':'neutral','usual':'neutral','necessary':'positive','real':'positive','sensible':'positive','equal':'positive','right':'positive','afraid':'negative','object':'neutral','particular':'neutral','fine':'neutral','likely':'positive','handsome':'positive','true':'positive','new':'positive','anxious':'negative','serious':'neutral','large':'neutral','second':'neutral','ill':'negative','several':'neutral','small':'neutral','natural':'neutral','early':'neutral','easy':'positive','glad':'positive','fair':'positive','common':'neutral','surprised':'neutral','ready':'positive','strong':'positive','proper':'neutral','high':'neutral','sorry':'negative','married':'positive','civil':'positive','full':'positive','half':'neutral','excellent':'positive','superior':'positive','slight':'negative','silent':'neutral','capable':'positive','extraordinary':'positive','angry':'negative','tolerable':'negative','evident':'neutral','open':'neutral','late':'negative','unable':'negative','bad':'negative','read':'neutral','delightful':'positive','painful':'negative','reasonable':'positive','old':'neutral','pleasant':'positive','disagreeable':'negative','beautiful':'positive','elegant':'positive','perfect':'positive','wrong':'negative','chief':'neutral','satisfied':'positive','mean':'negative','grateful':'positive','ignorant':'negative','unhappy':'negative','single':'neutral','favourable':'positive','steady':'positive','live':'neutral','difficult':'neutral','noble':'positive','principal':'neutral','private':'neutral','rich':'positive','due':'neutral','public':'neutral','desirable':'positive','continued':'neutral','cold':'neutral','wild':'negative','fancy':'positive','opposite':'neutral','indifferent':'negative','favourite':'positive','immediate':'positive','comfortable':'positive','proud':'neutral','unwilling':'negative','attentive':'positive','partial':'negative','light':'neutral','latter':'neutral','important':'positive','future':'neutral','generous':'positive','eager':'positive','disappointed':'neutral','related':'neutral','probable':'positive'}"
   ]
  },
  {
   "cell_type": "code",
   "execution_count": 27,
   "id": "26924b11",
   "metadata": {},
   "outputs": [
    {
     "data": {
      "text/plain": [
       "{'much': 'neutral',\n",
       " 'good': 'positive',\n",
       " 'little': 'neutral',\n",
       " 'great': 'positive',\n",
       " 'young': 'neutral',\n",
       " 'last': 'neutral',\n",
       " 'many': 'neutral',\n",
       " 'dear': 'positive',\n",
       " 'first': 'neutral',\n",
       " 'happy': 'positive',\n",
       " 'sure': 'positive',\n",
       " 'whole': 'neutral',\n",
       " 'subject': 'neutral',\n",
       " 'present': 'neutral',\n",
       " 'next': 'neutral',\n",
       " 'possible': 'positive',\n",
       " 'able': 'positive',\n",
       " 'certain': 'positive',\n",
       " 'general': 'neutral',\n",
       " 'enough': 'positive',\n",
       " 'impossible': 'negative',\n",
       " 'short': 'neutral',\n",
       " 'long': 'neutral',\n",
       " 'agreeable': 'positive',\n",
       " 'poor': 'negative',\n",
       " 'former': 'neutral',\n",
       " 'different': 'neutral',\n",
       " 'amiable': 'neutral',\n",
       " 'usual': 'neutral',\n",
       " 'necessary': 'positive',\n",
       " 'real': 'positive',\n",
       " 'sensible': 'positive',\n",
       " 'equal': 'positive',\n",
       " 'right': 'positive',\n",
       " 'afraid': 'negative',\n",
       " 'object': 'neutral',\n",
       " 'particular': 'neutral',\n",
       " 'fine': 'neutral',\n",
       " 'likely': 'positive',\n",
       " 'handsome': 'positive',\n",
       " 'true': 'positive',\n",
       " 'new': 'positive',\n",
       " 'anxious': 'negative',\n",
       " 'serious': 'neutral',\n",
       " 'large': 'neutral',\n",
       " 'second': 'neutral',\n",
       " 'ill': 'negative',\n",
       " 'several': 'neutral',\n",
       " 'small': 'neutral',\n",
       " 'natural': 'neutral',\n",
       " 'early': 'neutral',\n",
       " 'easy': 'positive',\n",
       " 'glad': 'positive',\n",
       " 'fair': 'positive',\n",
       " 'common': 'neutral',\n",
       " 'surprised': 'neutral',\n",
       " 'ready': 'positive',\n",
       " 'strong': 'positive',\n",
       " 'proper': 'neutral',\n",
       " 'high': 'neutral',\n",
       " 'sorry': 'negative',\n",
       " 'married': 'positive',\n",
       " 'civil': 'positive',\n",
       " 'full': 'positive',\n",
       " 'half': 'neutral',\n",
       " 'excellent': 'positive',\n",
       " 'superior': 'positive',\n",
       " 'slight': 'negative',\n",
       " 'silent': 'neutral',\n",
       " 'capable': 'positive',\n",
       " 'extraordinary': 'positive',\n",
       " 'angry': 'negative',\n",
       " 'tolerable': 'negative',\n",
       " 'evident': 'neutral',\n",
       " 'open': 'neutral',\n",
       " 'late': 'negative',\n",
       " 'unable': 'negative',\n",
       " 'bad': 'negative',\n",
       " 'read': 'neutral',\n",
       " 'delightful': 'positive',\n",
       " 'painful': 'negative',\n",
       " 'reasonable': 'positive',\n",
       " 'old': 'neutral',\n",
       " 'pleasant': 'positive',\n",
       " 'disagreeable': 'negative',\n",
       " 'beautiful': 'positive',\n",
       " 'elegant': 'positive',\n",
       " 'perfect': 'positive',\n",
       " 'wrong': 'negative',\n",
       " 'chief': 'neutral',\n",
       " 'satisfied': 'positive',\n",
       " 'mean': 'negative',\n",
       " 'grateful': 'positive',\n",
       " 'ignorant': 'negative',\n",
       " 'unhappy': 'negative',\n",
       " 'single': 'neutral',\n",
       " 'favourable': 'positive',\n",
       " 'steady': 'positive',\n",
       " 'live': 'neutral',\n",
       " 'difficult': 'neutral',\n",
       " 'noble': 'positive',\n",
       " 'principal': 'neutral',\n",
       " 'private': 'neutral',\n",
       " 'rich': 'positive',\n",
       " 'due': 'neutral',\n",
       " 'public': 'neutral',\n",
       " 'desirable': 'positive',\n",
       " 'continued': 'neutral',\n",
       " 'cold': 'neutral',\n",
       " 'wild': 'negative',\n",
       " 'fancy': 'positive',\n",
       " 'opposite': 'neutral',\n",
       " 'indifferent': 'negative',\n",
       " 'favourite': 'positive',\n",
       " 'immediate': 'positive',\n",
       " 'comfortable': 'positive',\n",
       " 'proud': 'neutral',\n",
       " 'unwilling': 'negative',\n",
       " 'attentive': 'positive',\n",
       " 'partial': 'negative',\n",
       " 'light': 'neutral',\n",
       " 'latter': 'neutral',\n",
       " 'important': 'positive',\n",
       " 'future': 'neutral',\n",
       " 'generous': 'positive',\n",
       " 'eager': 'positive',\n",
       " 'disappointed': 'neutral',\n",
       " 'related': 'neutral',\n",
       " 'probable': 'positive'}"
      ]
     },
     "execution_count": 27,
     "metadata": {},
     "output_type": "execute_result"
    }
   ],
   "source": [
    "# Print to check the step worked!\n",
    "# Printing also ensures that all of the adjectives are labeled correctly!\n",
    "dictionary"
   ]
  },
  {
   "cell_type": "markdown",
   "id": "b635fecd",
   "metadata": {},
   "source": [
    "## Run More Visualizations!"
   ]
  },
  {
   "cell_type": "markdown",
   "id": "69764241",
   "metadata": {},
   "source": [
    "## Graph 2: Bar Plot of the Top 129 Adjectives and their Correlations to Positive, Neutral, or Negative\n",
    "Now that the adjectives have been labeled positive, neutral, or negative, we can move on to creating more helpful visualizations.\n",
    "\n",
    "This graph displays the top 129 adjectives through their positive, neutral, or negative connotations, not considering their frequencies.\n",
    "\n",
    "This graph is far more helpful than Graph 1 but less helpful than the upcoming Graph 3. While Graph 1 simply visualized the number of times the top 129 adjectives appeared, Graph 2 begins to consider each adjective's associated connotations. However, Graph 2 does not take into account the fact that each term occurs in the text a unique number of times, which has implications for each term's weight towards the positive, neutral, or negative categories.\n",
    "\n",
    "Graph 2 also utilizes a light blue color, as it is not the graph with the ultimate usefulness for tonal analysis."
   ]
  },
  {
   "cell_type": "code",
   "execution_count": 28,
   "id": "c7de11f2",
   "metadata": {},
   "outputs": [],
   "source": [
    "sentiment_list = []\n",
    "for key, value in dictionary.items():\n",
    "    sentiment_list.append(value)\n",
    "    \n",
    "# Print to check the step worked!\n",
    "# sentiment_list"
   ]
  },
  {
   "cell_type": "code",
   "execution_count": 29,
   "id": "9dd7fa3e",
   "metadata": {},
   "outputs": [],
   "source": [
    "freq = [sentiment_list.count('positive'),sentiment_list.count('neutral'),sentiment_list.count('negative')]"
   ]
  },
  {
   "cell_type": "code",
   "execution_count": 30,
   "id": "6c07b408",
   "metadata": {},
   "outputs": [
    {
     "data": {
      "text/plain": [
       "[53, 54, 22]"
      ]
     },
     "execution_count": 30,
     "metadata": {},
     "output_type": "execute_result"
    }
   ],
   "source": [
    "freq"
   ]
  },
  {
   "cell_type": "code",
   "execution_count": 31,
   "id": "4c64a0d4",
   "metadata": {
    "scrolled": true
   },
   "outputs": [
    {
     "data": {
      "image/png": "[encoded data removed]",
      "text/plain": [
       "<Figure size 640x480 with 1 Axes>"
      ]
     },
     "metadata": {},
     "output_type": "display_data"
    }
   ],
   "source": [
    "plt.bar(['Positive','Neutral','Negative'],freq, color='#ADD8E6')\n",
    "\n",
    "plt.show()"
   ]
  },
  {
   "cell_type": "markdown",
   "id": "e0eec2d6",
   "metadata": {},
   "source": [
    "## Graph 3: Bar Plot of the Frequencies of the Top 129 Adjectives and their Correlations to 'Positive,' 'Neutral,' or 'Negative'\n",
    "Graph 3 expands on the last graph and offers a more accurate picture of the tone of *Pride and Prejudice*. This graph takes into account that each term occurs in the novel a unique amount of times and that this has implications for each term's weight towards the positive, neutral, or negative categories. Therefore, this graph is more useful when determining which connotation level is more dominant among the top 129 adjectives in *Pride and Prejudice*?\n",
    "\n",
    "Graph 3 also utilizes colors more relevant to the positive, neutral, or negative nature of the adjectives, as this graph is ultimately the most useful for tonal analysis."
   ]
  },
  {
   "cell_type": "code",
   "execution_count": 32,
   "id": "4d572bf8",
   "metadata": {},
   "outputs": [],
   "source": [
    "dictionary_connotations = {'positive': 0,'neutral': 0,'negative': 0}"
   ]
  },
  {
   "cell_type": "code",
   "execution_count": 33,
   "id": "728b3a45",
   "metadata": {},
   "outputs": [],
   "source": [
    "for word,freq in top_129_adject:\n",
    "    if dictionary[word] == 'positive':\n",
    "        dictionary_connotations['positive'] = dictionary_connotations['positive'] + freq\n",
    "    elif dictionary[word] == 'neutral':\n",
    "        dictionary_connotations['neutral'] = dictionary_connotations['neutral'] + freq\n",
    "    elif dictionary[word] == 'negative':\n",
    "        dictionary_connotations['negative'] = dictionary_connotations['negative'] + freq"
   ]
  },
  {
   "cell_type": "code",
   "execution_count": 34,
   "id": "6f66720e",
   "metadata": {
    "scrolled": true
   },
   "outputs": [
    {
     "data": {
      "text/plain": [
       "{'positive': 1563, 'neutral': 1962, 'negative': 383}"
      ]
     },
     "execution_count": 34,
     "metadata": {},
     "output_type": "execute_result"
    }
   ],
   "source": [
    "# Print to check the step worked!\n",
    "dictionary_connotations"
   ]
  },
  {
   "cell_type": "code",
   "execution_count": 35,
   "id": "8877eaaf",
   "metadata": {},
   "outputs": [
    {
     "data": {
      "image/png": "[encoded data removed]",
      "text/plain": [
       "<Figure size 640x480 with 1 Axes>"
      ]
     },
     "metadata": {},
     "output_type": "display_data"
    }
   ],
   "source": [
    "data = {'Positive': 1563, 'Neutral': 1962, 'Negative': 383}\n",
    "names = list(data.keys())\n",
    "values = list(data.values())\n",
    "plt.bar(0,values[0],tick_label=names[0], color='#98FB98')\n",
    "plt.bar(1,values[1],tick_label=names[1], color='#C0C0C0')\n",
    "plt.bar(2,values[2],tick_label=names[2], color='#FFA07A')\n",
    "plt.xticks(range(0,3),names)\n",
    "\n",
    "plt.show()"
   ]
  },
  {
   "cell_type": "markdown",
   "id": "47c124c4",
   "metadata": {},
   "source": [
    "## Analysis\n",
    "To reiterate, the leading question is: **To what extent are positive, neutral, or negative adjectives mentioned in *Pride and Prejudice*, and what does this signal about tone?**\n",
    "\n",
    "Let’s first recap what all of the graphs in this project signify.\n",
    "\n",
    "Graph 1 simply illustrates the frequencies of the top 129 adjectives within *Pride and Prejudice*. This number, 129, was chosen because all of these adjectives appear within the text at least 10 times. This means that the adjectives further analyzed throughout this project will have had some significant influence on the text. While this graph is not particularly useful for tonal analysis, which will be discussed later, it does provide an interesting and fun visualization of the appearance frequency of the top 129 adjectives. This provides the foundational adjectives for later analysis.\n",
    "\n",
    "Graph 2 is where tonal analysis begins. This bar plot begins to consider the top 129 adjectives and their correlations to ‘positive,’ ‘neutral,’ or ‘negative.’ Let’s first talk about these connotations. Positive, neutral, or negative adjectives are assumed to be signifiers of tone. As adjectives are parts of speech that modify other parts of speech, they function to change a word’s meaning.  \n",
    "\n",
    "If a large portion of the adjectives in the text were associated with negative connotations, we could assume that the novel’s happy-ever-after marriage between Elizabeth and Mr. Darcy did not have precedent within the novel’s language. This lack of precedent could have various implications for Austen’s writing; it could mean that this marriage came at the end of the novel, with no warning, and was entirely unpredictable. This could potentially imply that Austen was not as skillful as most critics assume and that the tone of the novel did not properly reflect the tone of the ending. This does seem highly unlikely, considering Austen’s prestige and status as a beloved author, but it should be considered in some capacity.\n",
    "\n",
    "However, if most of the adjectives found within the text positively changed a word's meaning, we can assume that the novel’s tone is generally positive. This tone would properly reflect Austen’s own thought that the novel is “rather too light and bright & sparkling” (Jane Austen, 212). This would make the assumption that the novel’s happy-ever-after marriage had been properly set up throughout the text, an accurate one based on data analysis. If the data shows that the adjectives, functioning as tone signifiers, properly set up the positive ending of the text, we can assume that this reflects upon the quality of Austen’s writing. Her use of language could, therefore, be inferred to be comprehensive and intentional, properly setting up the ending for readers and analysts alike. This seems like the most likely outcome, based on Austen’s prowess as a writer and status as a lauded novelist.\n",
    "\n",
    "Moving on to interpretations of Graph 2, we see that the majority of the top 129 adjectives have neutral connotations. This means that they do not have a specified or strong, positive or negative connotation. As stated in the markdown cells above, “If a word could be used as a negative *or* positive modifying word, it got the label neutral. If the word related to sizes, ages, number orders, or was generally not placeable in the positive or negative category, it also got the label neutral.” For this graph’s interpretation, and for the future interpretation of Graph 3, we can assume that these neutral adjectives do not sway the data and, thus, the tone of the text, positively or negatively. For all intents and purposes, we can ignore them. As a further note, these adjectives were marked positive, neutral, or negative in accordance with the Merriam-Webster dictionary definition of each term. This was done manually so as to be as accurate as possible, but interpretations of a word's connotations can be highly individualized. Therefore, as much as this was avoided, a word may be misclassified. However, due to the number of terms analyzed, this effect should be negligible on any results.\n",
    "\n",
    "When looking at adjectives with positive and negative connotations, we find that of the top 129 words, 53 of them have positive connotations, while only 22 of them have negative connotations. This begins to reveal that the novel's happy-ever-after ending has a tonal precedent. However, this particular graph does not take into account the individual frequencies of the top 129 adjectives. This could potentially sway the data set, as the 22 negative words could appear more frequently than the 53 positive words. Graph 3 explores this question.\n",
    "\n",
    "Graph 3 is the final visualization, and it takes into account the frequencies of the top 129 adjectives and their ‘positive,’ ‘neutral,’ or ‘negative’ connotations. While the previous graphs have been illustrated in light blue, this graph utilizes green for positive, orange-red for negative, and gray for neutral. These colors, while simply more fun, serve to highlight the importance of this graph for this particular project. Graph 3 provides a far more accurate picture of the tone of *Pride and Prejudice* than the last two. It takes into account the fact that each adjective occurs within the text a unique amount of times and that this changes how each term is weighed within the positive, neutral, or negative categories.\n",
    "\n",
    "This graph showcases that combined, the top 129 adjectives appear within the text a total of 3,908 times. Of these appearances, 1,563 of these words have positive connotations, 1,962 of these words have neutral connotations, and just 383 of these words have negative connotations. Just as in Graph 2, the neutral words can be ignored, as they are assumed to have no bearing on the tone of the text. Focusing on the words with positive connotations and negative connotations, however, yields a very clear sway in the positive direction. Adjectives with positive associations constitute 39.99% of the total adjective appearances, while adjectives with negative connotations make up just 9.8%. \n",
    "\n",
    "As adjectives with positive associations obviously appear far more frequently within *Pride and Prejudice* than adjectives with negative associations, one can assume that the earlier idea that we have correctly assumed that the tone of *Pride and Prejudice* would generally be a positive one, and would therefore reflect the happy-ever-after ending of the novel. This analysis will be summed up in the conclusion that follows.\n",
    "\n",
    "\n",
    "*References*:\n",
    "\n",
    "Austen, Jane. “80. To Cassandra Austen.” Letter. In *Jane Austen’s Letters*, edited by Deirdre Le Faye, 4th ed., 212–13. Oxford University Press, n.d. Accessed June 2024."
   ]
  },
  {
   "cell_type": "markdown",
   "id": "e7208061",
   "metadata": {},
   "source": [
    "## Conclusion\n",
    "Taking into account the role of an adjective as a modifier part of speech, an adjective with a positive or negative connotation will influence the language of a novel accordingly. This language modification would present itself through the tone of the novel, or the expression of the author, in this case, Jane Austen’s, attitude. \n",
    "\n",
    "Considering the combined frequencies of the top 129 adjectives, all of which appear in *Pride and Prejudice* at least 10 times, we find that 39.99% of the total adjective appearances have positive connotations, while adjectives with negative connotations make up just 9.8%. We can, therefore, assume that the adjectives found within the text overwhelmingly modified the language of *Pride and Prejudice* in a positive direction. This positive tone aligns with the happy-ever-after ending of *Pride and Prejudice* This alignment between the work’s tone and ending provides ample explanation for Jane Austen's position as a prolific writer and lauded novelist.\n",
    "\n",
    "These findings, therefore, answer the research question of **“To what extent are positive, neutral, or negative adjectives mentioned in *Pride and Prejudice*, and what does this signal about tone?”** "
   ]
  }
 ],
 "metadata": {
  "kernelspec": {
   "display_name": "Python 3 (ipykernel)",
   "language": "python",
   "name": "python3"
  },
  "language_info": {
   "codemirror_mode": {
    "name": "ipython",
    "version": 3
   },
   "file_extension": ".py",
   "mimetype": "text/x-python",
   "name": "python",
   "nbconvert_exporter": "python",
   "pygments_lexer": "ipython3",
   "version": "3.11.7"
  }
 },
 "nbformat": 4,
 "nbformat_minor": 5
}
